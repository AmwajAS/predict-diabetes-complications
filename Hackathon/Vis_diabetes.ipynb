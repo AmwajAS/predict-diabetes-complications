{
 "cells": [
  {
   "cell_type": "code",
   "execution_count": 16,
   "id": "ff50ef49",
   "metadata": {},
   "outputs": [],
   "source": [
    "import pandas as pd\n",
    "import matplotlib.pyplot as plt\n",
    "import seaborn as sns\n",
    "import numpy as np\n"
   ]
  },
  {
   "cell_type": "code",
   "execution_count": 22,
   "id": "58342f79",
   "metadata": {},
   "outputs": [],
   "source": [
    "diabetes_data= pd.read_csv('hakatonDataset.csv')\n"
   ]
  },
  {
   "cell_type": "code",
   "execution_count": 23,
   "id": "490383ae",
   "metadata": {},
   "outputs": [],
   "source": [
    "# Define a function to classify BMI values\n",
    "def classify_bmi(bmi):\n",
    "    if bmi < 18.5:\n",
    "        return \"Underweight\"\n",
    "    elif bmi >= 18.5 and bmi <= 25:\n",
    "        return \"Normalrange\"\n",
    "    else:\n",
    "        return \"Overweight\"\n",
    "# Apply the classification function to create a new column 'BMI_Class'\n",
    "diabetes_data['BMI'] = diabetes_data['BMI'].apply(classify_bmi)"
   ]
  },
  {
   "cell_type": "code",
   "execution_count": null,
   "id": "930e8f6b",
   "metadata": {},
   "outputs": [],
   "source": []
  }
 ],
 "metadata": {
  "kernelspec": {
   "display_name": "Python 3 (ipykernel)",
   "language": "python",
   "name": "python3"
  },
  "language_info": {
   "codemirror_mode": {
    "name": "ipython",
    "version": 3
   },
   "file_extension": ".py",
   "mimetype": "text/x-python",
   "name": "python",
   "nbconvert_exporter": "python",
   "pygments_lexer": "ipython3",
   "version": "3.9.13"
  }
 },
 "nbformat": 4,
 "nbformat_minor": 5
}
